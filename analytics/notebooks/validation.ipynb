{
	"cells": [
		{
			"cell_type": "markdown",
			"metadata": {},
			"source": [
				"# Quant Engine Validation\n",
				"This notebook demonstrates the quantitative analytics engine using synthetic data."
			]
		},
		{
			"cell_type": "code",
			"execution_count": 2,
			"metadata": {},
			"outputs": [
				{
					"data": {
						"text/plain": [
							"[44.0, 46.0, 48.0, 50.0, 52.0]"
						]
					},
					"execution_count": 2,
					"metadata": {},
					"output_type": "execute_result"
				}
			],
			"source": [
				"from pathlib import Path\n",
				"import sys\n",
				"\n",
				"PROJECT_ROOT = Path.cwd().resolve().parents[1]\n",
				"if str(PROJECT_ROOT) not in sys.path:\n",
				"    sys.path.insert(0, str(PROJECT_ROOT))\n",
				"\n",
				"from analytics.python.quant_engine import MeanReversionStrategy, QuantEngine, ResultStore, compute_returns, sharpe_ratio\n",
				"\n",
				"store = ResultStore(\"sqlite://:memory:\")\n",
				"engine = QuantEngine(store=store)\n",
				"prices = [100 + (-1)**i for i in range(30)]\n",
				"response = engine.run_backtest(MeanReversionStrategy, prices, {\"lookback\": 4, \"entry_z\": 0.6, \"exit_z\": 0.2})\n",
				"returns = compute_returns(response.pnl)\n",
				"sharpe = sharpe_ratio(returns)\n",
				"response.pnl[-5:]"
			]
		}
	],
	"metadata": {
		"kernelspec": {
			"display_name": "Python 3",
			"language": "python",
			"name": "python3"
		},
		"language_info": {
			"codemirror_mode": {
				"name": "ipython",
				"version": 3
			},
			"file_extension": ".py",
			"mimetype": "text/x-python",
			"name": "python",
			"nbconvert_exporter": "python",
			"pygments_lexer": "ipython3",
			"version": "3.13.9"
		}
	},
	"nbformat": 4,
	"nbformat_minor": 4
}
